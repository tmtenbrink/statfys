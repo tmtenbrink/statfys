{
 "cells": [
  {
   "cell_type": "markdown",
   "metadata": {},
   "source": [
    "# Computer Assignment 2"
   ]
  },
  {
   "cell_type": "markdown",
   "metadata": {},
   "source": [
    "## Student names and student numbers: (edit this)\n",
    "- Student 1 (0000000)\n",
    "- Student 2 (0000000)\n",
    "- Student 3 (0000000)"
   ]
  },
  {
   "cell_type": "markdown",
   "metadata": {},
   "source": [
    "**General TA feedback:**"
   ]
  },
  {
   "cell_type": "markdown",
   "metadata": {},
   "source": [
    "## === Section 1 : The Saha Equation ==="
   ]
  },
  {
   "cell_type": "markdown",
   "metadata": {},
   "source": [
    "### Exercise 1"
   ]
  },
  {
   "cell_type": "markdown",
   "metadata": {},
   "source": [
    "**Grade: x/8**\n",
    "\n",
    "**TA Feedback:**"
   ]
  },
  {
   "cell_type": "markdown",
   "metadata": {},
   "source": [
    "Your explanation"
   ]
  },
  {
   "cell_type": "code",
   "execution_count": null,
   "metadata": {},
   "outputs": [],
   "source": [
    "#Put your code here"
   ]
  },
  {
   "cell_type": "markdown",
   "metadata": {},
   "source": [
    "Your explanation"
   ]
  },
  {
   "cell_type": "markdown",
   "metadata": {},
   "source": [
    "### Exercise 2"
   ]
  },
  {
   "cell_type": "markdown",
   "metadata": {},
   "source": [
    "**Grade: x/9**\n",
    "\n",
    "**TA Feedback:**"
   ]
  },
  {
   "cell_type": "markdown",
   "metadata": {},
   "source": [
    "Your explanation"
   ]
  },
  {
   "cell_type": "code",
   "execution_count": null,
   "metadata": {},
   "outputs": [],
   "source": [
    "#Put your code here"
   ]
  },
  {
   "cell_type": "markdown",
   "metadata": {},
   "source": [
    "Your explanation"
   ]
  },
  {
   "cell_type": "markdown",
   "metadata": {},
   "source": [
    "### Exercise 3"
   ]
  },
  {
   "cell_type": "markdown",
   "metadata": {},
   "source": [
    "**Grade: x/4**\n",
    "\n",
    "**TA Feedback:**"
   ]
  },
  {
   "cell_type": "markdown",
   "metadata": {},
   "source": [
    "Your explanation"
   ]
  },
  {
   "cell_type": "code",
   "execution_count": null,
   "metadata": {},
   "outputs": [],
   "source": [
    "#Put your code here"
   ]
  },
  {
   "cell_type": "markdown",
   "metadata": {},
   "source": [
    "Your explanation"
   ]
  },
  {
   "cell_type": "markdown",
   "metadata": {},
   "source": [
    "### Exercise 4"
   ]
  },
  {
   "cell_type": "markdown",
   "metadata": {},
   "source": [
    "**Grade: x/8**\n",
    "\n",
    "**TA Feedback:**"
   ]
  },
  {
   "cell_type": "markdown",
   "metadata": {},
   "source": [
    "Your explanation"
   ]
  },
  {
   "cell_type": "code",
   "execution_count": null,
   "metadata": {},
   "outputs": [],
   "source": [
    "#Put your code here"
   ]
  },
  {
   "cell_type": "markdown",
   "metadata": {},
   "source": [
    "Your explanation"
   ]
  },
  {
   "cell_type": "markdown",
   "metadata": {},
   "source": [
    "## === Section 2 : Car Battery ==="
   ]
  },
  {
   "cell_type": "markdown",
   "metadata": {},
   "source": [
    "### Exercise 5"
   ]
  },
  {
   "cell_type": "markdown",
   "metadata": {},
   "source": [
    "**Grade: x/6**\n",
    "\n",
    "**TA Feedback:**"
   ]
  },
  {
   "cell_type": "markdown",
   "metadata": {},
   "source": [
    "To obtain the change of entropy we can use the Maxwell relation and the relation between the standard potential\n",
    "and the chemical potential of electrons:\n",
    "\n",
    "$$\\left( \\frac{{\\partial}\\mu}{{\\partial}T} \\right)_{N_{e}} = \\left( \\frac{{\\partial}S}{{\\partial}N_{e}} \\right)_{T}$$\n",
    "\n",
    "$$E_{s} = \\frac{{\\Delta}\\mu_{e}}{e}$$\n",
    "\n",
    "Combining these relations gives us the next equation:\n",
    "\n",
    "$$\\left( \\frac{e{\\partial}E_{s}}{{\\partial}T} \\right)_{N_{e}} = 0.022e = \\frac{{\\Delta}S}{{\\Delta}N_{e}}$$\n",
    "\n",
    "So the change of entropy is given by the following:\n",
    "\n",
    "$${\\Delta}S = 0.022e{\\Delta}N_{e}$$\n",
    "\n",
    "Here is $N_{e}$ equal to the amount of consumed electrons. Because the amount of used electrons per reaction is\n",
    "the same as the amount of used lead, the change of entropy per mole of lead is given by the following equation:\n",
    "\n",
    "$${\\Delta}S = 0.022e{\\Delta}N_{A}$$"
   ]
  },
  {
   "cell_type": "markdown",
   "metadata": {},
   "source": [
    "### Exercise 6"
   ]
  },
  {
   "cell_type": "markdown",
   "metadata": {},
   "source": [
    "**Grade: x/8**\n",
    "\n",
    "**TA Feedback:**"
   ]
  },
  {
   "cell_type": "markdown",
   "metadata": {},
   "source": [
    "The equilibrium condition of the nitrogen fixation gives us:\n",
    "\n",
    "$$k = e^{-{\\Delta}{\\mu}^{0}/(k{_{B}T)}}$$\n",
    "\n",
    "Here k is the ratio of concentrations of solvents over reactants. In the case of the battery the reactants\n",
    "we need to consider are only 2H$_{3}$O$^{+}$ and 2HSO$_{4}$$^{-}$ and the only solvent we need to consider is 4\n",
    "H$_{2}$O because all the other solvents of reactants are solid and therefore their chemical potential is fixed.\n",
    "Assuming that the water concentration is constant this gives us the following equation:\n",
    "\n",
    "$$k = \\frac{(1 mol/l)^4}{(n_{H_{3}O^{+}})^2(n_{HSO_{4}^{-}})^2}$$\n",
    "\n",
    "Taking the logarithm of both sides and replacing $-{\\Delta}{\\mu}$ by the difference of the chemical potential\n",
    "of the reaction finally gives us an expression we are looking for:\n",
    "\n",
    "$$\\log(k) = \\frac{(E_{s}^{(0)}-E_{s})ev_{e}}{k_{B}T}$$\n",
    "\n",
    "And writing this back to an expression for $E_{s}$ gives us equation 1 of the assignment.\n",
    "\n"
   ]
  },
  {
   "cell_type": "markdown",
   "metadata": {},
   "source": [
    "### Exercise 7"
   ]
  },
  {
   "cell_type": "markdown",
   "metadata": {},
   "source": [
    "**Grade: x/8**\n",
    "\n",
    "**TA Feedback:**"
   ]
  },
  {
   "attachments": {
    "StatphysCarBat7.png": {
     "image/png": "[encoded data removed]"
    }
   },
   "cell_type": "markdown",
   "metadata": {},
   "source": [
    "An expression for E$_{s}$ at 300 degrees Kelvin can be derived from the last equation above.\n",
    "\n",
    "$$E_{s} = E_{s}^{(0)} - \\frac{k_{B}T}{ev_{e}}\\log(k)$$\n",
    "\n",
    "The dependence is logarithmic because the concentration of H$_{3}O^{+}$ is inside the logarithm. "
   ]
  },
  {
   "cell_type": "code",
   "execution_count": 2,
   "metadata": {},
   "outputs": [
    {
     "data": {
      "text/plain": "<Figure size 432x288 with 1 Axes>",
      "image/png": "[encoded data removed]"
     },
     "metadata": {
      "needs_background": "light"
     },
     "output_type": "display_data"
    }
   ],
   "source": [
    "import matplotlib.pyplot as plt\n",
    "import numpy as np\n",
    "\n",
    "E0 = 2.11\n",
    "kb = 1.3806*10**(-23)\n",
    "T = 300\n",
    "e = 1.602*10**(-19)\n",
    "\n",
    "def EB(nH):\n",
    "    k = 1/(nH**2)\n",
    "    Es = E0 -((kb*T)/(2*e))*np.log(k)\n",
    "    Eb = 6*Es\n",
    "    return Eb\n",
    "\n",
    "nH3 = np.logspace(-8,0)\n",
    "\n",
    "plt.title('Plot of Ebatt against nH3O+')\n",
    "plt.xlabel('nH3O+ [mole/L]')\n",
    "plt.ylabel('Ebatt [V]')\n",
    "plt.semilogx(nH3, EB(nH3))\n",
    "plt.show()"
   ]
  },
  {
   "cell_type": "markdown",
   "metadata": {},
   "source": [
    "### Exercise 8"
   ]
  },
  {
   "cell_type": "markdown",
   "metadata": {},
   "source": [
    "**Grade: x/8**\n",
    "\n",
    "**TA Feedback:**"
   ]
  },
  {
   "attachments": {
    "CarBat8.png": {
     "image/png": "[encoded data removed]"
    }
   },
   "cell_type": "markdown",
   "metadata": {},
   "source": [
    "Because we start with one mol of the reactants and per mol of the reactants one mol of electrons is transferred,\n",
    "the concentrations of HSO$_{4}^{-}$ and H$_{3}$O$^{+}$ are equal to 1 - n$_{e}$ mol/L. Here n$_{e}$ is given in mol.\n",
    "\n",
    "For the E$_{batt}$-n$_{e}$ plot we will use equation the previous equation above, but with slightly different values.\n",
    "Here is T 300 K, E$_{s}^{(0)}$ is 2.11 V, v$_{e}$ is 2, HSO$_{4}^{-}$ and H$_{3}$O$^{+}$ are 1 - n$_{e}$.\n",
    "The battery needs to be recharged when the battery voltage is below 10 V. This is the case when 0.99981 mol\n",
    "of electrons have been transferred.\n"
   ]
  },
  {
   "cell_type": "code",
   "execution_count": 4,
   "metadata": {},
   "outputs": [
    {
     "name": "stderr",
     "output_type": "stream",
     "text": [
      "C:\\Users\\tip\\anaconda3\\lib\\site-packages\\ipykernel_launcher.py:10: RuntimeWarning: divide by zero encountered in true_divide\n",
      "  # Remove the CWD from sys.path while we load stuff.\n"
     ]
    },
    {
     "data": {
      "text/plain": "<Figure size 432x288 with 1 Axes>",
      "image/png": "[encoded data removed]"
     },
     "metadata": {
      "needs_background": "light"
     },
     "output_type": "display_data"
    }
   ],
   "source": [
    "import matplotlib.pyplot as plt\n",
    "import numpy as np\n",
    "\n",
    "E0 = 2.11\n",
    "kb = 1.3806*10**(-23)\n",
    "T = 300\n",
    "e = 1.602*10**(-19)\n",
    "\n",
    "def EB(ne):\n",
    "    k = 1/((1-ne)**4)\n",
    "    Es = E0 -((kb*T)/(2*e))*np.log(k)\n",
    "    Eb = 6*Es\n",
    "    return Eb\n",
    "\n",
    "ne = np.logspace(-8,0, num = 10000)\n",
    "\n",
    "plt.title('Plot of Ebatt against ne')\n",
    "plt.xlabel('ne [mol]')\n",
    "plt.ylabel('Ebatt [V]')\n",
    "plt.plot(ne, EB(ne))\n",
    "plt.show()"
   ]
  },
  {
   "cell_type": "markdown",
   "metadata": {},
   "source": [
    "### Exercise 9"
   ]
  },
  {
   "cell_type": "markdown",
   "metadata": {},
   "source": [
    "**Grade: x/6**\n",
    "\n",
    "**TA Feedback:**"
   ]
  },
  {
   "cell_type": "markdown",
   "metadata": {},
   "source": [
    "To determine when the potential is 0 when the concentrations of HSO$_{4}^{-}$ and H$_{3}$O$^{+}$ are equal\n",
    "we'll take k = $\\frac{1}{n^4}$ and E$_{s}$ = 0. This gives us:\n",
    "\n",
    "$$E_{s}^{(0)} - \\frac{k_{B}T}{ev_{e}}\\log\\left( \\frac{1}{n^4} \\right) = 0$$\n",
    "\n",
    "Working out this equation gives n = 1.9 $\\cdot$$10^{-18}$ moles per liter."
   ]
  },
  {
   "cell_type": "markdown",
   "metadata": {},
   "source": [
    "## === Section 3 : Monte Carlo simulation ==="
   ]
  },
  {
   "cell_type": "markdown",
   "metadata": {},
   "source": [
    "### Exercise 10"
   ]
  },
  {
   "cell_type": "markdown",
   "metadata": {},
   "source": [
    "**Grade: x/5**\n",
    "\n",
    "**TA Feedback:**"
   ]
  },
  {
   "cell_type": "markdown",
   "metadata": {},
   "source": [
    "Your explanation"
   ]
  },
  {
   "cell_type": "code",
   "execution_count": null,
   "metadata": {},
   "outputs": [],
   "source": [
    "#Put your code here"
   ]
  },
  {
   "cell_type": "markdown",
   "metadata": {},
   "source": [
    "Your explanation"
   ]
  },
  {
   "cell_type": "markdown",
   "metadata": {},
   "source": [
    "### Exercise 11"
   ]
  },
  {
   "cell_type": "markdown",
   "metadata": {},
   "source": [
    "**Grade: x/8**\n",
    "\n",
    "**TA Feedback:**"
   ]
  },
  {
   "cell_type": "markdown",
   "metadata": {},
   "source": [
    "Your explanation"
   ]
  },
  {
   "cell_type": "code",
   "execution_count": null,
   "metadata": {},
   "outputs": [],
   "source": [
    "#Put your code here"
   ]
  },
  {
   "cell_type": "markdown",
   "metadata": {},
   "source": [
    "Your explanation"
   ]
  },
  {
   "cell_type": "markdown",
   "metadata": {},
   "source": [
    "### Exercise 12"
   ]
  },
  {
   "cell_type": "markdown",
   "metadata": {},
   "source": [
    "**Grade: x/3**\n",
    "\n",
    "**TA Feedback:**"
   ]
  },
  {
   "cell_type": "markdown",
   "metadata": {},
   "source": [
    "Your explanation"
   ]
  },
  {
   "cell_type": "code",
   "execution_count": null,
   "metadata": {},
   "outputs": [],
   "source": [
    "#Put your code here"
   ]
  },
  {
   "cell_type": "markdown",
   "metadata": {},
   "source": [
    "Your explanation"
   ]
  },
  {
   "cell_type": "markdown",
   "metadata": {},
   "source": [
    "### Exercise 13"
   ]
  },
  {
   "cell_type": "markdown",
   "metadata": {},
   "source": [
    "**Grade: x/19**\n",
    "\n",
    "**TA Feedback:**"
   ]
  },
  {
   "cell_type": "markdown",
   "metadata": {},
   "source": [
    "Your explanation"
   ]
  },
  {
   "cell_type": "code",
   "execution_count": null,
   "metadata": {},
   "outputs": [],
   "source": [
    "#Put your code here"
   ]
  },
  {
   "cell_type": "markdown",
   "metadata": {},
   "source": [
    "Your explanation"
   ]
  }
 ],
 "metadata": {
  "kernelspec": {
   "display_name": "Python 3",
   "language": "python",
   "name": "python3"
  },
  "language_info": {
   "codemirror_mode": {
    "name": "ipython",
    "version": 3
   },
   "file_extension": ".py",
   "mimetype": "text/x-python",
   "name": "python",
   "nbconvert_exporter": "python",
   "pygments_lexer": "ipython3",
   "version": "3.6.6"
  },
  "latex_envs": {
   "LaTeX_envs_menu_present": true,
   "autoclose": false,
   "autocomplete": true,
   "bibliofile": "biblio.bib",
   "cite_by": "apalike",
   "current_citInitial": 1,
   "eqLabelWithNumbers": true,
   "eqNumInitial": 1,
   "hotkeys": {
    "equation": "Ctrl-E",
    "itemize": "Ctrl-I"
   },
   "labels_anchors": false,
   "latex_user_defs": false,
   "report_style_numbering": false,
   "user_envs_cfg": false
  }
 },
 "nbformat": 4,
 "nbformat_minor": 4
}