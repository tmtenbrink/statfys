{
 "cells": [
  {
   "cell_type": "markdown",
   "metadata": {},
   "source": [
    "# Computer Assignment 3 : Problem 1"
   ]
  },
  {
   "cell_type": "markdown",
   "metadata": {},
   "source": [
    "## Student names and student numbers:\n",
    "- Theo Koenig (4922301)\n",
    "- Tip ten Brink (4927192)\n",
    "- Lucas van Elderen (4960637)"
   ]
  },
  {
   "cell_type": "markdown",
   "metadata": {},
   "source": [
    "### General TA feedback:"
   ]
  },
  {
   "cell_type": "markdown",
   "metadata": {},
   "source": [
    "## Problem 1 : The Rotational Partition Function"
   ]
  },
  {
   "cell_type": "markdown",
   "metadata": {},
   "source": [
    "### Exercise 1 : x/8 points\n",
    "\n",
    "**TA Feedback:**"
   ]
  },
  {
   "cell_type": "markdown",
   "metadata": {},
   "source": [
    "The value of $n_{max}$ for $\\alpha$ equal to 5 is 4, and for $\\alpha$ = 50 this is 16. We see that the graph of $\\alpha$ = 5 is converging to the maximum value faster than the graph of $\\alpha$ = 50. The maximum value of the graph of $\\alpha$ = 50 is also larger than that of the graph of $\\alpha$ = 5 (approximately 50 and 5). "
   ]
  },
  {
   "cell_type": "code",
   "execution_count": 1,
   "metadata": {},
   "outputs": [],
   "source": [
    "import math\n",
    "import numpy as np\n",
    "from numpy import cumsum\n",
    "import matplotlib.pyplot as plt\n",
    "\n",
    "def Zn(a, n):\n",
    "    Z = cumsum((2*n+1)*math.e**((-1/a)*n*(n+1)))\n",
    "    return Z\n",
    "N = np.arange(25)\n",
    "plt.xlabel('n')\n",
    "plt.ylabel('Zn')\n",
    "plt.title('Zn plotted against n')\n",
    "plt.plot(N,Zn(5,N),label='a=5')\n",
    "plt.plot(N,Zn(50,N),label='a=50')\n",
    "plt.legend()\n",
    "plt.show()"
   ]
  },
  {
   "cell_type": "markdown",
   "metadata": {},
   "source": [
    "### Exercise 2 : x/10 points\n",
    "\n",
    "**TA Feedback:**"
   ]
  },
  {
   "cell_type": "markdown",
   "metadata": {},
   "source": [
    "Your explanation"
   ]
  },
  {
   "cell_type": "code",
   "execution_count": 2,
   "metadata": {},
   "outputs": [],
   "source": [
    "import math\n",
    "import numpy as np\n",
    "import matplotlib.pyplot as plt\n",
    "\n",
    "def Zn2(a,n):\n",
    "    Z = sum((2*n+1)*math.e**((-1/a)*n*(n+1)))\n",
    "  \n",
    "    return Z\n",
    "\n",
    "a = np.arange(50)/10+0.1\n",
    "n = np.arange(6)\n",
    "\n",
    "aa, nn = np.meshgrid(a, n, sparse=True)\n",
    "plt.xlabel('alpha')\n",
    "plt.ylabel('Znmax')\n",
    "plt.title('Znmax plotted against alpha')\n",
    "plt.plot(a,Zn2(aa,nn),'o', color = 'blue', label='Zn versus alpha')\n",
    "plt.plot(a,a,color='red',label='y=a')\n",
    "\n",
    "plt.legend()\n",
    "plt.show()"
   ]
  },
  {
   "cell_type": "markdown",
   "metadata": {},
   "source": [
    "Your explanation"
   ]
  },
  {
   "cell_type": "markdown",
   "metadata": {},
   "source": [
    "### Exercise 3 : x/9 points\n",
    "\n",
    "**TA Feedback:**"
   ]
  },
  {
   "cell_type": "markdown",
   "metadata": {
    "pycharm": {
     "name": "#%% md\n"
    }
   },
   "source": [
    "The high temperature approximation is obtained by taking the integral of the partition function. Taking an integral of a sum is however not entirely accurate. To make up for the error in this approximation the Euler-Maclaurin formula can be used. This gives an error of \n",
    "\\begin{equation}\\label{eq:}\n",
    "\\frac{1}{3} + \\frac{1}{15}\\frac{B}{K_{B}T} + \\frac{4}{315}(\\frac{B}{K_{B}T})^2 +...\n",
    "\\end{equation}\n",
    "When alpha gets large, the terms after $\\frac{1}{3}$ go quickly to 0. The deviation will therefore always be at least one third.\n"
   ]
  }
 ],
 "metadata": {
  "kernelspec": {
   "display_name": "Python 3",
   "language": "python",
   "name": "python3"
  },
  "language_info": {
   "codemirror_mode": {
    "name": "ipython",
    "version": 3
   },
   "file_extension": ".py",
   "mimetype": "text/x-python",
   "name": "python",
   "nbconvert_exporter": "python",
   "pygments_lexer": "ipython3",
   "version": "3.6.4"
  },
  "pycharm": {
   "stem_cell": {
    "cell_type": "raw",
    "source": [],
    "metadata": {
     "collapsed": false
    }
   }
  }
 },
 "nbformat": 4,
 "nbformat_minor": 4
}