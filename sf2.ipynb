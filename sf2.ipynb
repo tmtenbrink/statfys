{
 "cells": [
  {
   "cell_type": "code",
   "execution_count": 5,
   "outputs": [],
   "source": [
    "import matplotlib.pyplot as plt\n",
    "import numpy as np\n",
    "plt.rcParams['figure.facecolor'] = 'white'"
   ],
   "metadata": {
    "collapsed": false,
    "pycharm": {
     "name": "#%%\n"
    }
   }
  },
  {
   "cell_type": "markdown",
   "metadata": {},
   "source": [
    "# Computer Assignment 2"
   ]
  },
  {
   "cell_type": "markdown",
   "metadata": {},
   "source": [
    "## Student names and student numbers:\n",
    "- Theo Koenig (4922301)\n",
    "- Tip ten Brink (4927192)"
   ]
  },
  {
   "cell_type": "markdown",
   "metadata": {},
   "source": [
    "**General TA feedback:**"
   ]
  },
  {
   "cell_type": "markdown",
   "metadata": {},
   "source": [
    "## === Section 1 : The Saha Equation ==="
   ]
  },
  {
   "cell_type": "code",
   "execution_count": null,
   "metadata": {},
   "outputs": [],
   "source": [
    "from IPython.display import display, Math, Latex"
   ]
  },
  {
   "cell_type": "markdown",
   "metadata": {},
   "source": [
    "### Exercise 1"
   ]
  },
  {
   "cell_type": "markdown",
   "metadata": {},
   "source": [
    "**Grade: x/8**\n",
    "\n",
    "**TA Feedback:**"
   ]
  },
  {
   "cell_type": "markdown",
   "metadata": {},
   "source": [
    "$$\\require{mhchem}$$\n",
    "We know that at equilibrium:\n",
    "$0 = dG = \\sum_i{\\mu_idN_i}$\n",
    "\n",
    "Therefore we find that for an equilibrium equation of a single hydrogen atom to a single electron and proton, the chemical potentials, $\\mu_{i}$, must be balanced as such:\n",
    "$\\mu_{H} = \\mu_{e^-}+\\mu_{p}$\n",
    "\n",
    "Then, using the chemical potential of an ideal gas mixture we find\n",
    "\\begin{equation}\n",
    "-k_B T \\left( \\ln{\\frac{1}{n_H} \\left( \\frac{2\\pi m_H k_B T}{h^2} \\right) ^{3/2}} \\right) - I = -k_{B}T \\left( \\ln{\\frac{1}{n_e} \\left( \\frac{2\\pi m_e k_B T}{h^2} \\right)} ^{3/2} \\right) -k_{B}T \\left( \\ln{\\frac{1}{n_p} \\left( \\frac{2\\pi m_p k_B T}{h^2} \\right) ^{3/2}} \\right).\n",
    "\\end{equation}\n",
    "\n",
    "This can be simplified to:\n",
    "\\begin{equation}\n",
    "\\ln \\left( {\\frac{1}{n_H} \\left( \\frac{2 \\pi m_H k_B T}{h^2} \\right) ^{3/2} n_e \\left( \\frac{2 \\pi m_e k_B T}{h^2} \\right) ^{-3/2} n_p  \\left( \\frac{2 \\pi m_p k_B T}{h^2} \\right) ^{-3/2}} \\right) = -\\frac{I}{k_B T}\n",
    "\\end{equation}\n",
    "\n",
    "Taking $m_H = m_p$ and given $\\frac{n_e n_p}{n_H} = \\frac{n_e^2}{n_H}$, we then find\n",
    "\\begin{equation}\n",
    "\\ln{\\frac{n_e^2}{n_H} \\left( \\frac{h^2}{2 \\pi m_e k_B T} \\right) ^{3/2}} = -\\frac{I}{k_B T}.\n",
    "\\end{equation}\n",
    "\n",
    "From which it follows\n",
    "\n",
    "\\begin{equation}\n",
    "\\frac{n_e^2}{n_H} = \\left( \\frac{2 \\pi m_e k_B T}{h^2} \\right)^{3/2} \\cdot e^{\\frac{-I}{k_B T}}.\n",
    "\\end{equation}\n",
    "\n",
    "Given that $\\gamma = \\frac{\\hbar^2}{2m_e}$, we then finally obtain\n",
    "\n",
    "\\begin{equation}\n",
    "\\frac{n_e^2}{n_H} = \\left( 2 \\pi \\gamma k_B T \\right)^{3/2} \\cdot e^{\\frac{-I}{k_B T}}.\n",
    "\\end{equation}\n"
   ]
  },
  {
   "cell_type": "code",
   "execution_count": null,
   "metadata": {},
   "outputs": [],
   "source": [
    "import numpy as np\n",
    "import matplotlib.pyplot as plt\n",
    "\n",
    "# Constants used\n",
    "pi = np.pi\n",
    "a0 = 0.529 # Angstrom\n",
    "hbar2_d_2me = 13.6 # eV a0^2\n",
    "gamma = hbar2_d_2me\n",
    "k_B = 8.617e-5 # eV K^-1 Boltzmann constant\n",
    "I = 13.6 # eV ionization potential of the hydrogen atom\n",
    "\n",
    "T_start = 0.01 # start at zero results in a divide_by_zero_error\n",
    "T_end = 10000\n",
    "T_step = 100\n",
    "T = np.arange(T_start, T_end+1, T_step)\n",
    "\n",
    "ne2_d_nH = (2*pi*gamma*k_B*T)**(3/2)*np.exp(-I/(k_B*T))\n",
    "\n",
    "fig, ax = plt.subplots(figsize=(14,4))\n",
    "ax.plot(T, ne2_d_nH)\n",
    "ax.set_xlabel('Temperature (K)', fontsize=14)\n",
    "ax.set_ylabel(r'$n_e^2/n_H$ '+' $(m^{-3})$', fontsize=14) #Missing units\n",
    "fig.tight_layout()"
   ]
  },
  {
   "cell_type": "markdown",
   "metadata": {},
   "source": [
    "Explain why using these units makes sense"
   ]
  },
  {
   "cell_type": "markdown",
   "metadata": {},
   "source": [
    "### Exercise 2"
   ]
  },
  {
   "cell_type": "markdown",
   "metadata": {},
   "source": [
    "**Grade: x/9**\n",
    "\n",
    "**TA Feedback:**"
   ]
  },
  {
   "cell_type": "markdown",
   "metadata": {},
   "source": [
    "Given the ionization fractions as\n",
    "\n",
    "\\begin{equation}\n",
    "\\zeta = \\frac{n_p}{n_p + n_H}\n",
    "\\end{equation}\n",
    "\n",
    "The derivation of \n",
    "\n",
    "\\begin{equation}\n",
    "\\frac{\\zeta^2}{1-\\zeta}  = f(T)\n",
    "\\end{equation}\n",
    "\n",
    "with \n",
    "\n",
    "\\begin{equation}\n",
    "f(T) = \\frac{1}{n_0}\\left( \\frac{2 \\pi m_e k_B T}{h^2} \\right)^{3/2} \\cdot e^{\\frac{-I}{k_B T}} = \\frac{n_e^2}{n_H},\n",
    "\\end{equation}\n",
    "\n",
    "where $n_0 = n_p + n_H$, is given as follows:\n",
    "\n",
    "\\begin{equation}\n",
    "\\frac{\\zeta^2}{1-\\zeta}  = \\left( \\frac{n_p}{n_p + n_H} \\right)^2 \\left( \\frac{1}{1 - \\frac{n_p}{n_p + n_H}} \\right) = \\frac{n_p^2}{(n_p + n_H)^2 - (n_p + n_H)n_p} = \\frac{n_p^2}{n_H(n_p + n_H)} = \\frac{1}{n_0}\\frac{n_p^2}{n_H} = \\frac{1}{n_0}\\frac{n_e^2}{n_H} = \\frac{1}{n_0}f(T)\n",
    "\\end{equation}"
   ]
  },
  {
   "cell_type": "code",
   "execution_count": null,
   "metadata": {},
   "outputs": [],
   "source": [
    "import numpy as np\n",
    "import matplotlib.pyplot as plt\n",
    "\n",
    "# constants\n",
    "n0 = 1e17 #m^-3\n",
    "\n",
    "zeta = (1/n0)*ne2_d_nH\n",
    "\n",
    "fig, ax = plt.subplots(figsize=(14,4))\n",
    "ax.plot(T, zeta)\n",
    "ax.set_xlabel('Temperature (K)', fontsize=14)\n",
    "ax.set_ylabel(r'$\\frac{\\zeta^2}{1-\\zeta}$', fontsize=22) #No units\n",
    "fig.tight_layout()"
   ]
  },
  {
   "cell_type": "markdown",
   "metadata": {},
   "source": [
    "### Exercise 3"
   ]
  },
  {
   "cell_type": "markdown",
   "metadata": {},
   "source": [
    "**Grade: x/4**\n",
    "\n",
    "**TA Feedback:**"
   ]
  },
  {
   "cell_type": "markdown",
   "metadata": {},
   "source": [
    "The temperature at which $\\zeta < 0.01$ is first crossed indicates the temperature where the vast majority of protons had formed hydrogen atoms. This temperature can simply be found at the point where $\\frac{\\zeta^2}{1-\\zeta} = 1.01\\bar{01}\\times 10^{-4}$. "
   ]
  },
  {
   "cell_type": "code",
   "execution_count": null,
   "metadata": {},
   "outputs": [],
   "source": [
    "import matplotlib.pyplot as plt\n",
    "\n",
    "#for zeta << 1 we can approximate zeta(T) to be:\n",
    "zeta = np.sqrt((1/n0)*ne2_d_nH)\n",
    "\n",
    "fig, ax = plt.subplots(figsize=(14,4))\n",
    "ax.plot(T, zeta)\n",
    "ax.axhline(1e-11, 0, 10000)\n",
    "ax.set_xlabel('Temperature (K)', fontsize=14)\n",
    "ax.set_ylabel(r'$\\zeta(T)$', fontsize=22) #No units\n",
    "fig.tight_layout()"
   ]
  },
  {
   "cell_type": "markdown",
   "metadata": {},
   "source": [
    "Your explanation"
   ]
  },
  {
   "cell_type": "markdown",
   "metadata": {},
   "source": [
    "### Exercise 4"
   ]
  },
  {
   "cell_type": "markdown",
   "metadata": {},
   "source": [
    "**Grade: x/8**\n",
    "\n",
    "**TA Feedback:**"
   ]
  },
  {
   "cell_type": "markdown",
   "metadata": {},
   "source": [
    "Your explanation"
   ]
  },
  {
   "cell_type": "code",
   "execution_count": null,
   "metadata": {},
   "outputs": [],
   "source": [
    "#Put your code here"
   ]
  },
  {
   "cell_type": "markdown",
   "metadata": {},
   "source": [
    "Your explanation"
   ]
  },
  {
   "cell_type": "markdown",
   "metadata": {},
   "source": [
    "## === Section 2 : Car Battery ==="
   ]
  },
  {
   "cell_type": "markdown",
   "metadata": {},
   "source": [
    "### Exercise 5"
   ]
  },
  {
   "cell_type": "markdown",
   "metadata": {},
   "source": [
    "**Grade: x/6**\n",
    "\n",
    "**TA Feedback:**"
   ]
  },
  {
   "cell_type": "markdown",
   "metadata": {},
   "source": [
    "Your explanation"
   ]
  },
  {
   "cell_type": "code",
   "execution_count": null,
   "metadata": {},
   "outputs": [],
   "source": [
    "#Put your code here"
   ]
  },
  {
   "cell_type": "markdown",
   "metadata": {},
   "source": [
    "Your explanation"
   ]
  },
  {
   "cell_type": "markdown",
   "metadata": {},
   "source": [
    "### Exercise 6"
   ]
  },
  {
   "cell_type": "markdown",
   "metadata": {},
   "source": [
    "**Grade: x/8**\n",
    "\n",
    "**TA Feedback:**"
   ]
  },
  {
   "cell_type": "markdown",
   "metadata": {},
   "source": [
    "Your explanation"
   ]
  },
  {
   "cell_type": "code",
   "execution_count": null,
   "metadata": {},
   "outputs": [],
   "source": [
    "#Put your code here"
   ]
  },
  {
   "cell_type": "markdown",
   "metadata": {},
   "source": [
    "Your explanation"
   ]
  },
  {
   "cell_type": "markdown",
   "metadata": {},
   "source": [
    "### Exercise 7"
   ]
  },
  {
   "cell_type": "markdown",
   "metadata": {},
   "source": [
    "**Grade: x/8**\n",
    "\n",
    "**TA Feedback:**"
   ]
  },
  {
   "cell_type": "markdown",
   "metadata": {},
   "source": [
    "Your explanation"
   ]
  },
  {
   "cell_type": "code",
   "execution_count": null,
   "metadata": {},
   "outputs": [],
   "source": [
    "#Put your code here"
   ]
  },
  {
   "cell_type": "markdown",
   "metadata": {},
   "source": [
    "Your explanation"
   ]
  },
  {
   "cell_type": "markdown",
   "metadata": {},
   "source": [
    "### Exercise 8"
   ]
  },
  {
   "cell_type": "markdown",
   "metadata": {},
   "source": [
    "**Grade: x/8**\n",
    "\n",
    "**TA Feedback:**"
   ]
  },
  {
   "cell_type": "markdown",
   "metadata": {},
   "source": [
    "Your explanation"
   ]
  },
  {
   "cell_type": "code",
   "execution_count": null,
   "metadata": {},
   "outputs": [],
   "source": [
    "#Put your code here"
   ]
  },
  {
   "cell_type": "markdown",
   "metadata": {},
   "source": [
    "Your explanation"
   ]
  },
  {
   "cell_type": "markdown",
   "metadata": {},
   "source": [
    "### Exercise 9"
   ]
  },
  {
   "cell_type": "markdown",
   "metadata": {},
   "source": [
    "**Grade: x/6**\n",
    "\n",
    "**TA Feedback:**"
   ]
  },
  {
   "cell_type": "markdown",
   "metadata": {},
   "source": [
    "Your explanation"
   ]
  },
  {
   "cell_type": "code",
   "execution_count": null,
   "metadata": {},
   "outputs": [],
   "source": [
    "#Put your code here"
   ]
  },
  {
   "cell_type": "markdown",
   "metadata": {},
   "source": [
    "Your explanation"
   ]
  },
  {
   "cell_type": "markdown",
   "metadata": {},
   "source": [
    "## === Section 3 : Monte Carlo simulation ==="
   ]
  },
  {
   "cell_type": "markdown",
   "metadata": {},
   "source": [
    "### Exercise 10"
   ]
  },
  {
   "cell_type": "markdown",
   "metadata": {},
   "source": [
    "**Grade: x/5**\n",
    "\n",
    "**TA Feedback:**"
   ]
  },
  {
   "cell_type": "markdown",
   "metadata": {},
   "source": [
    "We know\n",
    "$$\\mathcal{P}(s) = \\frac{1}{Z}e^{E(s)/kT}$$ and\n",
    "$$Z = \\sum_s{e^{E(s)/kT}}$$\n",
    "\n",
    "We measure the energies $E_1$ for state $s_1$ and $E_2$ for state $s_2$\n",
    "in units of $kT$. So we have\n",
    "$$Z = e^{-E_1} + e^{-E_2}$$\n",
    "\n",
    "This gives us for the probabilities:\n",
    "\n",
    "$$p_1 = \\mathcal{P}(s_1) = \\frac{e^{-E_1}}{e^{-E_1} + e^{-E_2}}$$\n",
    "$$p_2 = \\mathcal{P}(s_2) = \\frac{e^{-E_2}}{e^{-E_1} + e^{-E_2}}$$"
   ]
  },
  {
   "cell_type": "markdown",
   "metadata": {},
   "source": [
    "### Exercise 11"
   ]
  },
  {
   "cell_type": "markdown",
   "metadata": {},
   "source": [
    "**Grade: x/8**\n",
    "\n",
    "**TA Feedback:**"
   ]
  },
  {
   "cell_type": "markdown",
   "metadata": {},
   "source": [
    "The flow from state 1 to 2 in a time step $T$ is given by the probability of being in state 1, $p_1$,\n",
    "times the \"hopping\" probability $T_{1,2}$ of going to state 2 in a time step if a particle is in state 1.\n",
    "The flow from state 2 to 1 is similar, so $p_2 T_{2,1}$.\n",
    "\n",
    "For the case $p_1 < p_2$, we choose $T_{1,2} = 1$ and $T_{2,1} = p_1 / p_2$, so we then have as a net flow from 1 to 2:\n",
    "\n",
    "$$p_1 T_{1,2} - p_2 T_{2,1} = p_1 - p_2 \\frac{p_1}{p_2} = 0$$\n",
    "\n",
    "For the case $p_2 \\leq p_1$, we choose $T_{1,2} = p_2 / p_1$ and $T_{2,1} = 1$, so:\n",
    "\n",
    "$$p_1 T_{1,2} - p_2 T_{2,1} = p_1 \\frac{p_2}{p_1} - p_2 = 0$$\n",
    "\n",
    "So we see that if the states are occupied with probabilities $p_1$, $p_2$, there is no\n",
    "net flow under our choice of hopping probabilities."
   ]
  },
  {
   "cell_type": "markdown",
   "metadata": {},
   "source": [
    "### Exercise 12"
   ]
  },
  {
   "cell_type": "markdown",
   "metadata": {},
   "source": [
    "**Grade: x/3**\n",
    "\n",
    "**TA Feedback:**"
   ]
  },
  {
   "cell_type": "markdown",
   "metadata": {},
   "source": [
    "We plot the following function from $x$ = 3 to -3:\n",
    "\n",
    "$$V(x) = x^2 + 2e^{-4(x-0.5)^2} + 2.5e^{-4(x+0.5)^2}$$"
   ]
  },
  {
   "cell_type": "code",
   "execution_count": 6,
   "metadata": {},
   "outputs": [
    {
     "data": {
      "text/plain": "<Figure size 432x288 with 1 Axes>",
      "image/png": "[encoded data removed]"
     },
     "metadata": {},
     "output_type": "display_data"
    }
   ],
   "source": [
    "import numpy as np\n",
    "import matplotlib.pyplot as plt\n",
    "\n",
    "x = np.linspace(-3,3,100)\n",
    "\n",
    "Vx = x**2 + 2*np.exp(-4*((x-0.5)**2)) + 2.5*np.exp(-4*((x+0.5)**2))\n",
    "\n",
    "plt.plot(x, Vx)\n",
    "plt.title(\"Potential function\")\n",
    "plt.ylabel(\"V\")\n",
    "plt.xlabel(\"x\")\n",
    "plt.grid()\n",
    "plt.show()"
   ]
  },
  {
   "cell_type": "markdown",
   "metadata": {},
   "source": [
    "### Exercise 13"
   ]
  },
  {
   "cell_type": "markdown",
   "metadata": {},
   "source": [
    "**Grade: x/19**\n",
    "\n",
    "**TA Feedback:**"
   ]
  },
  {
   "cell_type": "markdown",
   "metadata": {},
   "source": [
    "We randomly distribute 20,000 walkers over the interval -3 to 3. We know that if the walkers are distributed according\n",
    "to their occupational probabilities, there will be no further net flow if we choose the hopping probabilities similar\n",
    "to before.\n",
    "\n",
    "This means that a walker in a certain state $x$ must have a probability to go to a state $x$ + $\\Delta x$, where\n",
    "$\\Delta x$ is a random small displacement, in our case uniformly distributed between $W$ and $-W$ with $W$ = 0.1.\n",
    "This probability, like in the situation with just two states, is equal to $p_x$ / $p_{\\Delta x}$. If it is greater\n",
    "than 1, the walker is guaranteed to go to this new state, otherwise it goes to this new state with the probability\n",
    "equal to this ratio. This is achieved by comparing the ratio to a random number uniformly between 0 and 1,\n",
    "if it is greater than 1, it will always be higher than this random number so it will be guaranteed to go.\n",
    "\n",
    "The probabilities to be in a certain $x$ are calculated using the Boltzmann factor.\n",
    "\n",
    "Now, we let the walkers walk many steps until they are roughly distributed like the actual occupational\n",
    "probabilities associated with the potential function $V(x)$, which is the same as in the previous exercise.\n",
    "\n",
    "The histogram of of the distribution is normalized and compared with a normalized plot of the Boltzmann factor of\n",
    "the potential function. This shows that the plots align."
   ]
  },
  {
   "cell_type": "code",
   "execution_count": null,
   "metadata": {
    "pycharm": {
     "name": "#%%\n"
    }
   },
   "outputs": [],
   "source": [
    "import numpy as np\n",
    "import matplotlib.pyplot as plt\n",
    "\n",
    "# function that calculates the Boltzmann factor\n",
    "def px(x, beta=1):\n",
    "    Vx = x**2 + 2*np.exp(-4*((x-0.5)**2)) + 2.5*np.exp(-4*((x+0.5)**2))\n",
    "    return np.exp(-beta*Vx)\n",
    "\n",
    "walk_num = 20000\n",
    "walkers = (np.random.random_sample(walk_num) * 6) - 3\n",
    "t_range = range(10000)\n",
    "# calculate first Boltzmann factors walkers\n",
    "px_walkers = px(walkers)\n",
    "\n",
    "# time loop\n",
    "for t in t_range:\n",
    "    W = 0.1\n",
    "    # displacement is random uniformly between -W and W\n",
    "    displacement = (np.random.random_sample(walk_num) * (W * 2)) - W\n",
    "    displaced_walkers = walkers + displacement\n",
    "    # Boltzmann factor displaced walkers is calculated and the ratio\n",
    "    px_displaced_walkers = px(displaced_walkers)\n",
    "    p_ratio = px_displaced_walkers / px_walkers\n",
    "    # uniform probabilities between 0 and 1 for all walkers for comparison\n",
    "    prob_less_than_1 = np.random.random_sample(walk_num)\n",
    "    # walkers are displaced with probability equal to p_ratio\n",
    "    walkers_to_displace = p_ratio > prob_less_than_1\n",
    "    # for the next step the displaced walker Boltzmann factor can be reused\n",
    "    px_walkers = np.where(walkers_to_displace, px_displaced_walkers, px_walkers)\n",
    "\n",
    "    walkers = np.where(walkers_to_displace, displaced_walkers, walkers)\n",
    "\n",
    "bins = np.linspace(-3, 3, 100)\n",
    "plt.hist(walkers, bins=bins, density=True, histtype='step')\n",
    "\n",
    "# to normalize probability we calculate the area under the curve in a very simple manner\n",
    "# this area must be equal to 1 to have it properly normalized\n",
    "start = -3\n",
    "stop = 3\n",
    "steps = 1000\n",
    "analytic_xs = np.linspace(start, stop, steps)\n",
    "dx = (stop - start) / steps\n",
    "area = 0\n",
    "for x in analytic_xs:\n",
    "    area += dx * px(x)\n",
    "\n",
    "plt.plot(analytic_xs, px(analytic_xs)/area)\n",
    "\n",
    "plt.show()"
   ]
  }
 ],
 "metadata": {
  "kernelspec": {
   "display_name": "Python 3",
   "language": "python",
   "name": "python3"
  },
  "language_info": {
   "codemirror_mode": {
    "name": "ipython",
    "version": 3
   },
   "file_extension": ".py",
   "mimetype": "text/x-python",
   "name": "python",
   "nbconvert_exporter": "python",
   "pygments_lexer": "ipython3",
   "version": "3.6.6"
  },
  "latex_envs": {
   "LaTeX_envs_menu_present": true,
   "autoclose": false,
   "autocomplete": true,
   "bibliofile": "biblio.bib",
   "cite_by": "apalike",
   "current_citInitial": 1,
   "eqLabelWithNumbers": true,
   "eqNumInitial": 1,
   "hotkeys": {
    "equation": "Ctrl-E",
    "itemize": "Ctrl-I"
   },
   "labels_anchors": false,
   "latex_user_defs": false,
   "report_style_numbering": false,
   "user_envs_cfg": false
  }
 },
 "nbformat": 4,
 "nbformat_minor": 4
}