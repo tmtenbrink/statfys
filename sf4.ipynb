{
 "cells": [
  {
   "cell_type": "markdown",
   "metadata": {},
   "source": [
    "# Computer Assignment 4"
   ]
  },
  {
   "cell_type": "markdown",
   "metadata": {},
   "source": [
    "## Student names and student numbers: (edit this)\n",
    "- Theo Koenig (4922301)\n",
    "- Tip ten Brink (4927192)"
   ]
  },
  {
   "cell_type": "markdown",
   "metadata": {},
   "source": [
    "### General TA feedback:"
   ]
  },
  {
   "cell_type": "markdown",
   "metadata": {},
   "source": [
    "## Problem 1 : Fermi Statistics in a Closed System"
   ]
  },
  {
   "cell_type": "markdown",
   "metadata": {},
   "source": [
    "### Exercise 1 : x/6 points\n",
    "\n",
    "**TA Feedback:**"
   ]
  },
  {
   "cell_type": "markdown",
   "metadata": {},
   "source": [
    "$$f_{FD} = \\frac{1}{e^{\\beta(E_r - \\mu)} + 1}$$\n",
    "\n",
    "From the above shown Fermi-Dirac distribution function, it is straightforward to see that the it is always smaller than or equal to 1. The denominator must simply be greater than or equal to 1. Seeing as the exponential factor is real, it never goes below 0 and the denominator therefore satisfies the condition:\n",
    "\n",
    "$$e^{\\beta(E_r - \\mu)} + 1 \\geq 1.$$\n",
    "\n",
    "$$f_{BE} = \\frac{1}{e^{\\beta(E_r - \\mu)} - 1}$$\n",
    "\n",
    "Again, from the Bose-Einstein distribution function shown above, it is relatively simple to see that $\\mu$ must be smaller than the ground state energy. If we were to assume that a $\\mu$ larger than $E_r$ is possible then the distribution would become negative as the exponential becomes smaller than 1. This would mean that the number of particles in the state would be negative. If $\\mu$ is equal to the ground state energy then there would be an infinite number of particles in the lowest single-particle state as the denominator goes to zero. Therefore $\\mu$ must always be smaller than $E_r$."
   ]
  },
  {
   "cell_type": "markdown",
   "metadata": {},
   "source": [
    "### Exercise 2 : x/6 points\n",
    "\n",
    "**TA Feedback:**"
   ]
  },
  {
   "cell_type": "markdown",
   "metadata": {},
   "source": [
    "The ground state is the state in which all the particles have minimum energy. Since we have fermions,\n",
    "each energy state can only be occupied by one particle. So we have a fermion occupying the first ten energy states,\n",
    "$E_1$ to $E_{10}$. So the total system energy is the sum of these energies. Since $E_n = n\\epsilon$ and we take\n",
    "$\\epsilon = 1$, the energy is equal to $1 + 2 + ... + 10 = 55$."
   ]
  },
  {
   "cell_type": "markdown",
   "metadata": {},
   "source": [
    "### Exercise 3 : x/12 points\n",
    "\n",
    "**TA Feedback:**"
   ]
  },
  {
   "cell_type": "markdown",
   "metadata": {},
   "source": [
    "Five more than the ground state of $55$ means there is a total energy of $60$.\n",
    "\n",
    "**Hint** : use the following table. The two rows are just to show you _how_ the table works for $4$ fermions, and are _not_ correct solutions! Please delete them, and add your own correct rows. You might need to add extra columns, or you might not have to use some columns at all!\n",
    "\n",
    "| Energy level $\\rightarrow$ | 1 | 2 | 3 | 4 | 5 | 6 | 7 | 8 | 9 | 10 | 11 | 12 | 13 | 14 | 15\n",
    "| -------------------------- | - | - | - | - | - | - | - | - | - | -- | -- | -- | -- | -- | --\n",
    "|                          1 | 1 | 1 | 1 | 1 | 1 | 0 | 1 | 1 | 1 | 1  | 1  |  0 |  0 | 0  |  0\n",
    "|                          2 | 1 | 1 | 1 | 1 | 1 | 1 | 0 | 1 | 1 | 1  | 0  |  1 |  0 | 0  |  0\n",
    "|                          3 | 1 | 1 | 1 | 1 | 1 | 1 | 1 | 0 | 1 | 0  | 1  |  1 |  0 | 0  |  0\n",
    "|                          4 | 1 | 1 | 1 | 1 | 1 | 1 | 1 | 0 | 1 | 1  | 0  |  0 |  1 | 0  |  0\n",
    "|                          5 | 1 | 1 | 1 | 1 | 1 | 1 | 1 | 1 | 0 | 0  | 1  |  0 |  1 | 0  |  0\n",
    "|                          6 | 1 | 1 | 1 | 1 | 1 | 1 | 1 | 1 | 0 | 1  | 0  |  0 |  0 | 1  |  0\n",
    "|                          7 | 1 | 1 | 1 | 1 | 1 | 1 | 1 | 1 | 1 | 0  | 0  |  0 |  0 | 0  |  1\n",
    "\n",
    "\n",
    "**Hint 2: occupation table** : use the following occupation table. Again, the values are fictional, just to show you how it works! You might not need all the columns, or you might need to add in additional columns.\n",
    "\n",
    "| Level $\\rightarrow$      | 1 | 2 | 3 | 4 | 5 | 6 | 7 | 8 | 9 | 10 | 11 | 12 | 13 | 14 | 15\n",
    "| -------------------------| - | - | - | - | - | - | - | - | - | -- | -- | -- | -- | -- | --\n",
    "| Occupation $\\rightarrow$ | 1 | 1 | 1 | 1 | 1 |6/7|6/7|5/7|5/7| 4/7| 3/7| 2/7| 2/7| 1/7| 1/7"
   ]
  },
  {
   "cell_type": "code",
   "execution_count": 61,
   "metadata": {
    "pycharm": {
     "is_executing": false
    }
   },
   "outputs": [
    {
     "data": {
      "text/plain": "[<matplotlib.lines.Line2D at 0x256cd6fe108>]"
     },
     "metadata": {},
     "output_type": "execute_result",
     "execution_count": 61
    },
    {
     "data": {
      "text/plain": "<Figure size 432x288 with 1 Axes>",
      "image/png": "[encoded data removed]"
     },
     "metadata": {
      "needs_background": "light"
     },
     "output_type": "display_data"
    }
   ],
   "source": [
    "import matplotlib.pyplot as plt\n",
    "\n",
    "occupations = [[1, 1], [2, 1], [3, 1], [5, 1], [6, 6/7], [7, 6/7], [8, 5/7], [9, 5/7], [10, 4/7], [11, 3/7], [12, 2/7],\n",
    "               [13, 2/7], [14, 1/7], [15, 1/7], [16, 0]]\n",
    "x_arr, y_arr = zip(*occupations)\n",
    "\n",
    "plt.plot(x_arr, y_arr)"
   ]
  },
  {
   "cell_type": "markdown",
   "metadata": {},
   "source": [
    "Your explanation"
   ]
  },
  {
   "cell_type": "markdown",
   "metadata": {},
   "source": [
    "### Exercise 4 : x/12 points\n",
    "\n",
    "**TA Feedback:**"
   ]
  },
  {
   "cell_type": "markdown",
   "metadata": {},
   "source": [
    "Your explanation"
   ]
  },
  {
   "cell_type": "code",
   "execution_count": 62,
   "metadata": {
    "pycharm": {
     "is_executing": false
    }
   },
   "outputs": [
    {
     "data": {
      "text/plain": "<Figure size 432x288 with 1 Axes>",
      "image/png": "[encoded data removed]"
     },
     "metadata": {
      "needs_background": "light"
     },
     "output_type": "display_data"
    }
   ],
   "source": [
    "import numpy as np\n",
    "import matplotlib.pyplot as plt\n",
    "\n",
    "# Use the following function:\n",
    "from scipy import optimize\n",
    "\n",
    "# Use the following start position p0 = [1,7] , where 1 denotes the initial value of beta, and 7 that of mu.\n",
    "p0 = [1,7]\n",
    "\n",
    "#Constants used\n",
    "k_b = 1.38064852e-23\n",
    "\n",
    "def fermi_dirac(x, a, b):\n",
    "    return 1/(np.exp(a * (x - b)) + 1)\n",
    "\n",
    "def analyze_fermi_dirac(x_arr, y_arr, p0=None):\n",
    "    if p0:\n",
    "        params, params_covariance = optimize.curve_fit(fermi_dirac, x_arr, y_arr, p0, bounds=([0, -np.inf], [np.inf, np.inf]))\n",
    "    else:\n",
    "        params, params_covariance = optimize.curve_fit(fermi_dirac, x_arr, y_arr, bounds=([0, -np.inf], [np.inf, np.inf]))\n",
    "    beta = params[0]\n",
    "    mu = params[1]\n",
    "    return beta, mu\n",
    "\n",
    "beta, mu = analyze_fermi_dirac(x_arr, y_arr, p0)\n",
    "\n",
    "x = np.arange(1, 17)\n",
    "plt.errorbar(x_arr, y_arr, label='Set of points')\n",
    "plt.plot(x, fermi_dirac(x, beta, mu), label='Analytical')\n",
    "plt.xlabel('n')\n",
    "plt.ylabel('$f{FD}$')\n",
    "plt.legend()\n",
    "plt.show()"
   ]
  },
  {
   "cell_type": "markdown",
   "metadata": {},
   "source": [
    "Your explanation"
   ]
  },
  {
   "cell_type": "markdown",
   "metadata": {},
   "source": [
    "### Exercise 5 : x/14 points\n",
    "\n",
    "**TA Feedback:**"
   ]
  },
  {
   "cell_type": "markdown",
   "metadata": {},
   "source": [
    "Your explanation"
   ]
  },
  {
   "cell_type": "code",
   "execution_count": 63,
   "metadata": {
    "pycharm": {
     "is_executing": false
    }
   },
   "outputs": [
    {
     "data": {
      "text/plain": "<Figure size 432x288 with 1 Axes>",
      "image/png": "[encoded data removed]"
     },
     "metadata": {
      "needs_background": "light"
     },
     "output_type": "display_data"
    },
    {
     "data": {
      "text/plain": "<Figure size 432x288 with 1 Axes>",
      "image/png": "[encoded data removed]"
     },
     "metadata": {
      "needs_background": "light"
     },
     "output_type": "display_data"
    }
   ],
   "source": [
    "# Use these standard functions to calculate the partitions, using calc_fermi(N,E) . \n",
    "# You don't need to use accel_asc, it is used inside the function calc_fermi.\n",
    "def accel_asc(n, part_num):\n",
    "    a = [0 for i in range(n + 1)]\n",
    "    k = 1\n",
    "    y = n - 1\n",
    "    while k != 0:\n",
    "        x = a[k - 1] + 1\n",
    "        k -= 1\n",
    "        while (2 * x <= y) and (k<part_num-1):\n",
    "            a[k] = x\n",
    "            y -= x\n",
    "            k += 1\n",
    "        l = k + 1\n",
    "        while (x <= y) and (k<part_num-1):\n",
    "            a[k] = x\n",
    "            a[l] = y\n",
    "            yield a[:k + 2]\n",
    "            x += 1\n",
    "            y -= 1\n",
    "        a[k] = x + y\n",
    "        y = x + y - 1\n",
    "        yield a[:k + 1]\n",
    "\n",
    "def calc_fermi(N, E):\n",
    "    p = np.zeros((1,N))\n",
    "    part_cnt = 0\n",
    "    for m in accel_asc(E, N):\n",
    "        p[part_cnt,:len(m)] = list(reversed(m))\n",
    "        part_cnt = part_cnt + 1     \n",
    "        p = np.vstack((p, np.zeros(N, dtype=int)))\n",
    "    p = p[:part_cnt,:]\n",
    "    x_scatter = np.repeat(np.arange(0,part_cnt),N)\n",
    "    p_flat = np.reshape(p[:part_cnt,:],(1,p.size))\n",
    "    y_scatter = np.tile(np.arange(0,N),part_cnt) +p_flat[0,::-1]\n",
    "    return x_scatter.astype(float), y_scatter, part_cnt\n",
    "\n",
    "x_scatter, y_scatter, part_num = calc_fermi(30, 8)\n",
    "plt.scatter(x_scatter, y_scatter, marker = 'o')\n",
    "plt.show()\n",
    "\n",
    "y_arr = np.bincount(y_scatter.astype(int))/part_num\n",
    "x_arr = np.arange(1, len(y_arr)+1)\n",
    "beta, mu = analyze_fermi_dirac(x_arr, y_arr)\n",
    "\n",
    "x = np.arange(1, 17)\n",
    "plt.errorbar(x_arr, y_arr, label='Set of points')\n",
    "y_fermi_dirac = fermi_dirac(x_arr, beta, mu)\n",
    "plt.plot(x_arr, fermi_dirac(x_arr, beta, mu), label='Analytical')\n",
    "plt.xlabel('n')\n",
    "plt.ylabel('$f{FD}$')\n",
    "plt.legend()\n",
    "plt.show()"
   ]
  },
  {
   "cell_type": "markdown",
   "metadata": {},
   "source": [
    "Your explanation"
   ]
  },
  {
   "cell_type": "markdown",
   "metadata": {},
   "source": [
    "### Exercise 6 : x/12 points\n",
    "\n",
    "**TA Feedback:**"
   ]
  },
  {
   "cell_type": "markdown",
   "metadata": {},
   "source": [
    "Your explanation"
   ]
  },
  {
   "cell_type": "code",
   "execution_count": 64,
   "metadata": {
    "pycharm": {
     "is_executing": false
    }
   },
   "outputs": [],
   "source": [
    "#Put your code here"
   ]
  },
  {
   "cell_type": "markdown",
   "metadata": {},
   "source": [
    "Your explanation"
   ]
  },
  {
   "cell_type": "markdown",
   "metadata": {},
   "source": [
    "### Exercise 7 : x/18 points\n",
    "\n",
    "**TA Feedback:**"
   ]
  },
  {
   "cell_type": "markdown",
   "metadata": {},
   "source": [
    "Your explanation"
   ]
  },
  {
   "cell_type": "code",
   "execution_count": 65,
   "metadata": {
    "pycharm": {
     "is_executing": false
    }
   },
   "outputs": [],
   "source": [
    "#Put your code here"
   ]
  },
  {
   "cell_type": "markdown",
   "metadata": {},
   "source": [
    "Your explanation"
   ]
  },
  {
   "cell_type": "markdown",
   "metadata": {},
   "source": [
    "### Exercise 8 : x/20 points\n",
    "\n",
    "**TA Feedback:**"
   ]
  },
  {
   "cell_type": "markdown",
   "metadata": {},
   "source": [
    "Your explanation"
   ]
  },
  {
   "cell_type": "code",
   "execution_count": 66,
   "metadata": {
    "pycharm": {
     "is_executing": false
    }
   },
   "outputs": [],
   "source": [
    "#Put your code here"
   ]
  },
  {
   "cell_type": "markdown",
   "metadata": {},
   "source": [
    "Your explanation"
   ]
  }
 ],
 "metadata": {
  "kernelspec": {
   "display_name": "Python 3",
   "language": "python",
   "name": "python3"
  },
  "language_info": {
   "codemirror_mode": {
    "name": "ipython",
    "version": 3
   },
   "file_extension": ".py",
   "mimetype": "text/x-python",
   "name": "python",
   "nbconvert_exporter": "python",
   "pygments_lexer": "ipython3",
   "version": "3.6.4"
  },
  "pycharm": {
   "stem_cell": {
    "cell_type": "raw",
    "source": [],
    "metadata": {
     "collapsed": false
    }
   }
  }
 },
 "nbformat": 4,
 "nbformat_minor": 4
}