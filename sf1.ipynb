{
 "cells": [
  {
   "cell_type": "markdown",
   "source": [
    "(4) The following is a plot of the multiplicity of an Einstein solid, which is a collection of $N$ harmonic oscillators, \n",
    "five in this case. It plots the log value of the multiplicity for a specific amount of total energy units $q$,\n",
    "from 0 to 100."
   ],
   "metadata": {
    "collapsed": false,
    "pycharm": {
     "name": "#%% md\n"
    }
   }
  },
  {
   "cell_type": "code",
   "execution_count": null,
   "outputs": [],
   "source": [
    "import matplotlib.pyplot as plt\n",
    "import numpy as np\n",
    "from scipy import special as scisp\n",
    "\n",
    "N = 5\n",
    "\n",
    "def plot_multiplicity(N, q_range=100):\n",
    "    q = np.arange(0, q_range, 1)\n",
    "    \n",
    "    multiplicity = scisp.comb(N+q-1,q)\n",
    "    \n",
    "    plt.semilogy(q, multiplicity)\n",
    "    plt.title(\"Multiplicity of Einstein solid with N=\" + str(N))\n",
    "    plt.ylabel(\"Multiplicity\")\n",
    "    plt.xlabel(\"Total energy units\")\n",
    "    plt.grid()\n",
    "    plt.show()\n",
    "    \n",
    "plot_multiplicity(N)"
   ],
   "metadata": {
    "collapsed": false,
    "pycharm": {
     "name": "#%%\n"
    }
   }
  },
  {
   "cell_type": "markdown",
   "source": [
    "(5) The following is a plot similar to above, but now for multiple values of N, from 3 to 10.\n",
    "\n"
   ],
   "metadata": {
    "collapsed": false
   }
  },
  {
   "cell_type": "code",
   "execution_count": null,
   "outputs": [],
   "source": [
    "import matplotlib.pyplot as plt\n",
    "import numpy as np\n",
    "from scipy import special as scisp\n",
    "\n",
    "N = 5\n",
    "\n",
    "def plot_multiplicity(N, q_range=100):\n",
    "    q = np.arange(0, q_range, 1)\n",
    "    \n",
    "    multiplicity = scisp.comb(N+q-1,q)\n",
    "    \n",
    "    plt.semilogy(q, multiplicity)\n",
    "    plt.title(\"Multiplicity of Einstein solid with N=\" + str(N))\n",
    "    plt.ylabel(\"Multiplicity\")\n",
    "    plt.xlabel(\"Total energy units\")\n",
    "    plt.grid()\n",
    "    plt.show()\n",
    "\n"
   ],
   "metadata": {
    "collapsed": false,
    "pycharm": {
     "name": "#%%\n"
    }
   }
  }
 ],
 "metadata": {
  "kernelspec": {
   "name": "python3",
   "language": "python",
   "display_name": "Python 3"
  },
  "language_info": {
   "codemirror_mode": {
    "name": "ipython",
    "version": 2
   },
   "file_extension": ".py",
   "mimetype": "text/x-python",
   "name": "python",
   "nbconvert_exporter": "python",
   "pygments_lexer": "ipython2",
   "version": "2.7.6"
  },
  "pycharm": {
   "stem_cell": {
    "cell_type": "raw",
    "source": [],
    "metadata": {
     "collapsed": false
    }
   }
  }
 },
 "nbformat": 4,
 "nbformat_minor": 0
}