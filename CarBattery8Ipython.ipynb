{
 "cells": [
  {
   "cell_type": "code",
   "execution_count": null,
   "metadata": {},
   "outputs": [],
   "source": [
    "import math\n",
    "import matplotlib.pyplot as plt\n",
    "import numpy as np\n",
    "\n",
    "E0 = 2.11\n",
    "kb = 1.3806*10**(-23)\n",
    "T = 300\n",
    "e = 1.602*10**(-19)\n",
    "\n",
    "def EB(ne):\n",
    "    k = 1/((1-ne)**4)\n",
    "    Es = E0 -((kb*T)/(2*e))*np.log(k)\n",
    "    Eb = 6*Es\n",
    "    return Eb\n",
    "\n",
    "ne = np.logspace(-8,0, num = 100000000)\n",
    "\n",
    "plt.title('Plot of Ebatt against ne')\n",
    "plt.xlabel('ne [moles]')\n",
    "plt.ylabel('Ebatt [V]')\n",
    "plt.plot(ne, EB(ne))"
   ]
  }
 ],
 "metadata": {
  "kernelspec": {
   "display_name": "Python 3",
   "language": "python",
   "name": "python3"
  },
  "language_info": {
   "codemirror_mode": {
    "name": "ipython",
    "version": 3
   },
   "file_extension": ".py",
   "mimetype": "text/x-python",
   "name": "python",
   "nbconvert_exporter": "python",
   "pygments_lexer": "ipython3",
   "version": "3.6.6"
  },
  "latex_envs": {
   "LaTeX_envs_menu_present": true,
   "autoclose": false,
   "autocomplete": true,
   "bibliofile": "biblio.bib",
   "cite_by": "apalike",
   "current_citInitial": 1,
   "eqLabelWithNumbers": true,
   "eqNumInitial": 1,
   "hotkeys": {
    "equation": "Ctrl-E",
    "itemize": "Ctrl-I"
   },
   "labels_anchors": false,
   "latex_user_defs": false,
   "report_style_numbering": false,
   "user_envs_cfg": false
  }
 },
 "nbformat": 4,
 "nbformat_minor": 2
}
