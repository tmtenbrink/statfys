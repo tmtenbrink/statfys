{
 "cells": [
  {
   "cell_type": "markdown",
   "metadata": {},
   "source": [
    "# Computer Assignment 3 : Problem 3"
   ]
  },
  {
   "cell_type": "markdown",
   "metadata": {},
   "source": [
    "## Student names and student numbers:\n",
    "- Theo Koenig (4922301)\n",
    "- Tip ten Brink (4927192)\n",
    "- Lucas van Elderen (4960637)"
   ]
  },
  {
   "cell_type": "markdown",
   "metadata": {},
   "source": [
    "### General TA feedback:"
   ]
  },
  {
   "cell_type": "markdown",
   "metadata": {},
   "source": [
    "## Problem 3 : Density of States"
   ]
  },
  {
   "cell_type": "markdown",
   "metadata": {},
   "source": [
    "### Exercise 8 : x/10 points\n",
    "\n",
    "**TA Feedback:**"
   ]
  },
  {
   "cell_type": "markdown",
   "metadata": {},
   "source": [
    "The quantum states are:\n",
    "\\begin{equation}\n",
    "\\Psi_j (x) = \\sqrt{\\frac{2}{L}}\\sin{\\frac{j\\pi x}{L}} = \\sqrt{\\frac{2}{L}}\\sin{k_j x}\n",
    "\\end{equation}\n",
    "\n",
    "Where $k_j = \\frac{j \\pi}{L}$ is the wave vector and j runs from 1 to infinity.\n",
    "\n",
    "\n",
    "They are labeled with $k_j$ as this along with j are the only variables between eigenstates.\n",
    "\n",
    "The corresponding energies are then\n",
    "\\begin{equation}\n",
    "E_j = \\frac{\\hbar^2 j^2 \\pi^2}{2 m L^2} = \\frac{k_j^2 \\hbar^2}{2m}.\n",
    "\\end{equation}"
   ]
  },
  {
   "cell_type": "markdown",
   "metadata": {},
   "source": [
    "### Exercise 9 : x/11 points\n",
    "\n",
    "**TA Feedback:**"
   ]
  },
  {
   "cell_type": "code",
   "execution_count": 4,
   "metadata": {
    "pycharm": {
     "is_executing": false
    }
   },
   "outputs": [
    {
     "data": {
      "text/plain": "Text(0, 0.5, 'No. of states (N)')"
     },
     "metadata": {},
     "output_type": "execute_result",
     "execution_count": 4
    },
    {
     "data": {
      "text/plain": "<Figure size 432x288 with 1 Axes>",
      "image/png": "[encoded data removed]"
     },
     "metadata": {
      "needs_background": "light"
     },
     "output_type": "display_data"
    }
   ],
   "source": [
    "import numpy as np\n",
    "import matplotlib.pyplot as plt\n",
    "\n",
    "# Constants used\n",
    "pi = np.pi\n",
    "\n",
    "# Evaluating the energy in units of hbar^2/(2mL^2)\n",
    "E = np.zeros(10000)\n",
    "for i in range(len(E)+1):\n",
    "    E[i-1] = i**2 * pi**2\n",
    "    \n",
    "# Plotting the histogram\n",
    "nbins = 50\n",
    "plt.hist(E, bins=nbins)\n",
    "plt.xlabel(\"E $(\\hbar^2/2mL^2)$\")\n",
    "plt.ylabel(\"No. of states (N)\")"
   ]
  },
  {
   "cell_type": "markdown",
   "metadata": {},
   "source": [
    "Your explanation"
   ]
  },
  {
   "cell_type": "markdown",
   "metadata": {},
   "source": [
    "### Exercise 10: x/10 points\n",
    "\n",
    "**TA Feedback:**"
   ]
  },
  {
   "cell_type": "markdown",
   "metadata": {},
   "source": [
    "In the limit of large $L$, it is easy to see that there is little spacing between the quantum states and we can write a sum over the states as an integral, as it becomes 'smooth.'\n",
    "\n",
    "\\begin{equation}\n",
    "\\sum_{j} F(k_j) = \\int F(j)d(j)\n",
    "\\end{equation}\n",
    "\n",
    "To transform the integral over the states into an integral over the energy we must apply the relation between the quantum state denoted by $k_j$ and the energy as a function $E(k_j) = \\frac{k_j^2 \\hbar^2}{2m},$ which is then also a function of $j$ such that $E_j(j) = \\frac{j^2 \\hbar^2 \\pi^2}{2mL^2}.$ This is done by introducing a partial derivative $\\frac{dj}{dk_j}\\frac{dk_j}{dE_j}$:\n",
    "\n",
    "\\begin{equation}\n",
    "\\int{F(j)d(j)} = \\int{\\tilde{F}(E_j) \\frac{dj}{dk_j} \\frac{dk_j}{dE_j} dE_j} \n",
    "\\end{equation}\n",
    "\n",
    "Where $F(j)$ and $\\tilde{F}(E_j)$ are equivalent functions but written in different forms. It is easy to see from the definition of $k_j$ and some simple rearranging that $\\frac{dj}{dk_j} = \\frac{L}{\\pi}$, and similarly from the energy equation that $\\frac{dk_j}{dE_j} = \\sqrt{\\frac{m}{2 \\hbar^2 E_j}}$.\n",
    "\n",
    "We therefore find that \n",
    "\n",
    "\\begin{equation}\n",
    "\\int{\\tilde{F}(E_j) \\frac{dj}{dk_j} \\frac{dk_j}{dE_j} dE_j} = \\int{\\tilde{F}(E_j) \\frac{L}{\\pi} \\sqrt{\\frac{m}{2 \\hbar^2 E_j}} dE}\n",
    "\\end{equation}\n",
    "\n",
    "From which the density function $g(E) = \\frac{1}{2 \\pi}\\sqrt{\\frac{2mL^2}{\\hbar^2 E}}$ is found. If the energy is rewritten in units of $\\frac{\\hbar^2}{2mL^2}$ we finally obtain:\n",
    "\n",
    "\\begin{equation}\n",
    "g(E) = {\\frac{1}{2\\pi \\sqrt{E}}}.\n",
    "\\end{equation}\n",
    "\n",
    "This shows that \n",
    "\n",
    "\\begin{equation}\n",
    "\\sum_{states}F(state) = \\int{g(E)F(state)dE}.\n",
    "\\end{equation}"
   ]
  },
  {
   "cell_type": "code",
   "execution_count": 5,
   "metadata": {
    "pycharm": {
     "is_executing": false
    }
   },
   "outputs": [
    {
     "data": {
      "text/plain": "<matplotlib.legend.Legend at 0x1a2ae28dbc8>"
     },
     "metadata": {},
     "output_type": "execute_result",
     "execution_count": 5
    },
    {
     "data": {
      "text/plain": "<Figure size 432x288 with 1 Axes>",
      "image/png": "[encoded data removed]"
     },
     "metadata": {
      "needs_background": "light"
     },
     "output_type": "display_data"
    }
   ],
   "source": [
    "# Analystical equation for the density of states in terms of hbar^2/(2mL^2)\n",
    "g = 1/(np.sqrt(E) * 2 * np.pi)\n",
    "\n",
    "# No. states per bin\n",
    "binsize = (max(E) - min(E))/nbins\n",
    "N = g * binsize\n",
    "\n",
    "plt.hist(E, bins=nbins, label = 'Histogram')\n",
    "plt.plot(E, N, label = 'Analytical')\n",
    "plt.xlabel(\"E $(\\hbar^2/2mL^2)$\")\n",
    "plt.ylabel(\"g(E) $(L \\sqrt{2m} / \\hbar)$\")\n",
    "plt.ylim(0,1500)\n",
    "plt.legend()"
   ]
  },
  {
   "cell_type": "markdown",
   "metadata": {},
   "source": [
    "### Exercise 11: x/10 points\n",
    "\n",
    "**TA Feedback:**"
   ]
  },
  {
   "cell_type": "markdown",
   "metadata": {},
   "source": [
    "In three dimensions the quantum states remain the same, although they are denoted with different wave vectors, $k_{n_x} =  \\frac{j \\pi}{L}, k_{n_y} =  \\frac{l \\pi}{L}, k_{n_z} =  \\frac{m \\pi}{L}$, one for each cartesian direction. $n_x$, $n_y$, and $n_z$ all run from 1 to infinity. A general $\\vec{k} = (k_{n_x}, k_{n_y}, k_{n_z})$ can therefore be written as a so called $\\vec{k}$-vector. The energy only depends on the length of the vector $\\vec{k}$:\n",
    "\n",
    "\\begin{equation}\n",
    "E(\\vec{k}) = \\frac{\\hbar^2 k^2}{2m}\n",
    "\\end{equation}\n",
    "\n",
    "For a large L, the sum over these states can again be written as an integral then follows as\n",
    "\n",
    "\\begin{equation}\n",
    "\\sum_{n_x, n_y, n_z} F(\\vec{k}) = \\int{ F(n) d^3 n}\n",
    "\\end{equation}\n",
    "\n",
    "When writing this integral in terms of energy we must take into account that $n$ can only take positive values, such that $\\frac{d^3n}{dk^3} = \\frac{L^3}{8 \\pi^3}$. Since the function $F$ depends on the energy and as a consequence the length of $\\vec{k}$, we can use sperical coordinates so that $d^3k = 4\\pi k^2 dk$. From this it follows that \n",
    "\n",
    "\\begin{equation}\n",
    "d^3n = \\frac{L^3}{2 \\pi^2} k^2 dk.\n",
    "\\end{equation}\n",
    "\n",
    "Similarly to the previous assignment, from the equation for energy we also obtain \n",
    "\n",
    "\\begin{equation}\n",
    "dk = \\frac{dk}{dE}dE = \\sqrt{\\frac{m}{2 \\hbar^2 E}}.\n",
    "\\end{equation}\n",
    "\n",
    "By plugging in, and writing the energy in units of $\\left( \\frac{\\hbar^2}{2mL^2} \\right)^3$ as a final step, we then obtain the density of state in three dimensions:\n",
    "\n",
    "\\begin{equation}\n",
    "g(E) = \\frac{L^3}{2 \\pi^2} k^2 \\sqrt{\\frac{m}{2 \\hbar^2 E}} = \\frac{L^3}{2 \\pi^2} \\frac{2mE}{\\hbar^2} \\sqrt{\\frac{m}{2 \\hbar^2 E}} = \\frac{\\sqrt{E}}{4 \\pi^2}\n",
    "\\end{equation}\n"
   ]
  },
  {
   "cell_type": "code",
   "execution_count": 6,
   "metadata": {
    "pycharm": {
     "is_executing": false
    }
   },
   "outputs": [
    {
     "data": {
      "text/plain": "<matplotlib.legend.Legend at 0x1a2ae2f69c8>"
     },
     "metadata": {},
     "output_type": "execute_result",
     "execution_count": 6
    },
    {
     "name": "stderr",
     "text": [
      "C:\\Users\\tip\\anaconda3\\lib\\site-packages\\IPython\\core\\pylabtools.py:132: UserWarning: Creating legend with loc=\"best\" can be slow with large amounts of data.\n",
      "  fig.canvas.print_figure(bytes_io, **kw)\n"
     ],
     "output_type": "stream"
    },
    {
     "data": {
      "text/plain": "<Figure size 432x288 with 1 Axes>",
      "image/png": "[encoded data removed]"
     },
     "metadata": {
      "needs_background": "light"
     },
     "output_type": "display_data"
    }
   ],
   "source": [
    "# 100 k-components in meshgrid\n",
    "npoints = 100\n",
    "k = np.arange(1, npoints + 2)\n",
    "\n",
    "kx, ky, kz = np.meshgrid(k, k, k)\n",
    "\n",
    "# Calculating the length of the n vector to calculate energy\n",
    "abs_k = np.sqrt(kx**2 + ky**2 + kz**2)\n",
    "\n",
    "def E(k): # in correct units \n",
    "    E = k**2 * pi**2\n",
    "    return E\n",
    "\n",
    "E = E(abs_k)\n",
    "E = np.reshape(E, -1)\n",
    "\n",
    "# plotting histogram (define n, bins, patches so that arrays do not show up in the output {read from documentation})\n",
    "nbins = 300\n",
    "n, bins, patches = plt.hist(E, bins = nbins, label = 'Histogram') #bins returns the inputted array\n",
    "\n",
    "# Density of states and analytic plot\n",
    "Ek = np.linspace(bins[0], bins[-1], len(E)) #reshape causes the plot to overlap. Create new energy array based on previous array.\n",
    "gE = np.sqrt(Ek)/(4 * pi**2)\n",
    "dE = bins[1] - bins[0] #binsize\n",
    "N = gE * dE\n",
    "\n",
    "plt.plot(Ek, N, label = 'Analytical')\n",
    "plt.xlabel(\"E $(\\hbar ^ 2 / 2mL^2)$\")\n",
    "plt.ylabel(\"g(E) $(L \\sqrt{2m} / \\hbar)$\")\n",
    "plt.legend()\n",
    "\n"
   ]
  },
  {
   "cell_type": "markdown",
   "metadata": {},
   "source": [
    "The curve does not have the expected shape beyond $E = 10000$, as we would expect it to keep rising along with the analytical solution. This can be explained by the fact that we only took a limited number of states. The multiplicity therefore has a maximum that corresponds with the maximum density of states seen in the plot. This maximum multiplicity likely occurs when the states occupy all three cartesian axes, as this would be higher than occupying just one axis."
   ]
  }
 ],
 "metadata": {
  "kernelspec": {
   "display_name": "Python 3",
   "language": "python",
   "name": "python3"
  },
  "language_info": {
   "codemirror_mode": {
    "name": "ipython",
    "version": 3
   },
   "file_extension": ".py",
   "mimetype": "text/x-python",
   "name": "python",
   "nbconvert_exporter": "python",
   "pygments_lexer": "ipython3",
   "version": "3.6.6"
  },
  "latex_envs": {
   "LaTeX_envs_menu_present": true,
   "autoclose": false,
   "autocomplete": true,
   "bibliofile": "biblio.bib",
   "cite_by": "apalike",
   "current_citInitial": 1,
   "eqLabelWithNumbers": true,
   "eqNumInitial": 1,
   "hotkeys": {
    "equation": "Ctrl-E",
    "itemize": "Ctrl-I"
   },
   "labels_anchors": false,
   "latex_user_defs": false,
   "report_style_numbering": false,
   "user_envs_cfg": false
  },
  "pycharm": {
   "stem_cell": {
    "cell_type": "raw",
    "metadata": {
     "collapsed": false
    },
    "source": []
   }
  }
 },
 "nbformat": 4,
 "nbformat_minor": 4
}